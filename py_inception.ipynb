{
 "cells": [
  {
   "cell_type": "code",
   "execution_count": 1,
   "id": "01cbd4ee",
   "metadata": {},
   "outputs": [],
   "source": [
    "import torch\n",
    "import torch.nn as nn\n",
    "import torch.nn.functional as F\n",
    "\n",
    "import torchvision\n",
    "import torchvision.transforms as transforms\n",
    "\n",
    "from torch.utils.data import DataLoader"
   ]
  },
  {
   "cell_type": "code",
   "execution_count": 8,
   "id": "5a7480e5",
   "metadata": {},
   "outputs": [
    {
     "data": {
      "text/plain": [
       "' target_transform = transforms.Compose([\\n    transforms.Lambda(lambda y: torch.zeros(10, dtype = torch.float).scatter_(0, torch.tensor(y), value = 1))\\n])\\n'"
      ]
     },
     "execution_count": 8,
     "metadata": {},
     "output_type": "execute_result"
    }
   ],
   "source": [
    "transform = transforms.Compose([\n",
    "    transforms.ToTensor(),\n",
    "    transforms.Normalize((0.5071, 0.4867, 0.4408), (0.2675, 0.2565, 0.2761))\n",
    "])\n",
    "\n",
    "# We can also create a target_transform if needed\n",
    "\"\"\" target_transform = transforms.Compose([\n",
    "    transforms.Lambda(lambda y: torch.zeros(10, dtype = torch.float).scatter_(0, torch.tensor(y), value = 1))\n",
    "])\n",
    "\"\"\""
   ]
  },
  {
   "cell_type": "code",
   "execution_count": 9,
   "id": "73ee36c8",
   "metadata": {},
   "outputs": [],
   "source": [
    "full_train_set = torchvision.datasets.CIFAR100(root = \"./data2\", train = True, download = False, transform = transform)\n",
    "\n",
    "test_set = torchvision.datasets.CIFAR100(root = \"./data2\", train = False, download = False, transform = transform)"
   ]
  },
  {
   "cell_type": "code",
   "execution_count": 10,
   "id": "ddf7f8d1",
   "metadata": {},
   "outputs": [],
   "source": [
    "# Defining the size of the validation set\n",
    "val_size = 10000\n",
    "train_size = len(full_train_set) - val_size"
   ]
  },
  {
   "cell_type": "code",
   "execution_count": 11,
   "id": "f8e25aab",
   "metadata": {},
   "outputs": [
    {
     "name": "stdout",
     "output_type": "stream",
     "text": [
      "Full training set size: 50000\n",
      "New training set size: 40000\n",
      "Validation set size: 10000\n",
      "Test set size: 10000\n"
     ]
    }
   ],
   "source": [
    "train_subset, val_subset = torch.utils.data.random_split(full_train_set, [train_size, val_size])\n",
    "\n",
    "print(f\"Full training set size: {len(full_train_set)}\")\n",
    "print(f\"New training set size: {len(train_subset)}\")\n",
    "print(f\"Validation set size: {len(val_subset)}\")\n",
    "print(f\"Test set size: {len(test_set)}\")"
   ]
  },
  {
   "cell_type": "code",
   "execution_count": 12,
   "id": "3f8d83d3",
   "metadata": {},
   "outputs": [],
   "source": [
    "batch_size = 64\n",
    "\n",
    "train_loader = DataLoader(dataset = train_subset, batch_size = batch_size, shuffle = True)                              \n",
    "val_loader = DataLoader(dataset = val_subset, batch_size = batch_size, shuffle  = False)\n",
    "test_loader = DataLoader(dataset = test_set, batch_size = batch_size, shuffle = False)"
   ]
  },
  {
   "cell_type": "code",
   "execution_count": 13,
   "id": "f7760424",
   "metadata": {},
   "outputs": [
    {
     "name": "stdout",
     "output_type": "stream",
     "text": [
      "\n",
      "Using device: cuda:0\n"
     ]
    }
   ],
   "source": [
    "device = torch.device(\"cuda:0\" if torch.cuda.is_available() else \"cpu\")\n",
    "print(f\"\\nUsing device: {device}\")"
   ]
  },
  {
   "cell_type": "code",
   "execution_count": 14,
   "id": "26f13383",
   "metadata": {},
   "outputs": [],
   "source": [
    "class InceptionModule(nn.Module):\n",
    "    # The Basic Inception Module\n",
    "    def __init__(self, in_channels, n1x1, n3x3_reduce, n3x3, n5x5_reduce, n5x5, pool_proj):\n",
    "        super(InceptionModule, self).__init__()\n",
    "        \n",
    "        # 1x1 Convolution Branch\n",
    "        self.b1 = nn.Sequential(\n",
    "            nn.Conv2d(in_channels = in_channels, out_channels = n1x1, kernel_size = 1),\n",
    "            nn.BatchNorm2d(num_features = n1x1),\n",
    "            nn.ReLU(inplace = True)\n",
    "        )\n",
    "        \n",
    "        # 1x1 --> 3x3 Convolution Branch\n",
    "        self.b2 = nn.Sequential(\n",
    "            nn.Conv2d(in_channels = in_channels, out_channels = n3x3_reduce, kernel_size = 1),\n",
    "            nn.BatchNorm2d(num_features = n3x3_reduce),\n",
    "            nn.ReLU(inplace = True),\n",
    "            \n",
    "            nn.Conv2d(in_channels = n3x3_reduce, out_channels = n3x3, kernel_size = 3, padding = 1),\n",
    "            nn.BatchNorm2d(num_features = n3x3),\n",
    "            nn.ReLU(inplace = True)\n",
    "        )\n",
    "        \n",
    "        # 1x1 --> 5x5 Convolution Branch\n",
    "        self.b3 = nn.Sequential(\n",
    "            nn.Conv2d(in_channels = in_channels, out_channels = n5x5_reduce, kernel_size = 1),\n",
    "            nn.BatchNorm2d(num_features = n5x5_reduce),\n",
    "            nn.ReLU(inplace = True),\n",
    "            \n",
    "            nn.Conv2d(in_channels = n5x5_reduce, out_channels = n5x5, kernel_size = 5, padding = 2),\n",
    "            nn.BatchNorm2d(num_features = n5x5),\n",
    "            nn.ReLU(inplace = True)\n",
    "        )\n",
    "        \n",
    "        # 3x3 Maxpool --> 1x1 Convolution Branch\n",
    "        self.b4 = nn.Sequential(\n",
    "            nn.MaxPool2d(kernel_size = 3, stride = 1, padding = 1),\n",
    "            nn.Conv2d(in_channels = in_channels, out_channels = pool_proj, kernel_size = 1),\n",
    "            nn.BatchNorm2d(num_features = pool_proj),\n",
    "            nn.ReLU(inplace = True)\n",
    "        )\n",
    "        \n",
    "    def forward(self, x):\n",
    "        # Concatenate the outputs of the four branches along the channel dimension\n",
    "        return torch.cat([self.b1(x), self.b2(x), self.b3(x), self.b4(x)], dim = 1)"
   ]
  },
  {
   "cell_type": "code",
   "execution_count": null,
   "id": "d81d7d25",
   "metadata": {},
   "outputs": [],
   "source": [
    "class BasicInceptionNet(nn.Module):\n",
    "    # A Basic InceptionNet(GoogleNet Style) model adapted for CIFAR100\n",
    "    def __init__(self, num_classes = 100):\n",
    "        super(BasicInceptionNet, self).__init__()\n",
    "        # Initial Convolutional Layer - adapted for 32x32 Input\n",
    "        self.pre_layers = nn.Sequential(\n",
    "            # Input: 32x32x3\n",
    "            nn.Conv2d(in_channels = 3, out_channels = 192, kernel_size = 3, padding = 1),\n",
    "            nn.BatchNorm2d(num_features = 192),\n",
    "            nn.ReLU(inplace = True),\n",
    "            # Output: 32x32x192\n",
    "        )\n",
    "        \n",
    "        # Inception Modules\n",
    "        # The Output Channels from the previous layer become the input channels for the next\n",
    "        self.a3 = InceptionModule(in_channels = 192, n1x1 = 64, n3x3_reduce = 96, n3x3 = 128, n5x5_reduce = 16, n5x5 = 32, pool_proj = 32)  # Output Channels = 64 + 128 + 32 + 32 = 256\n",
    "        self.b3 = InceptionModule(in_channels = 256, n1x1 = 128, n3x3_reduce = 128, n3x3 = 192, n5x5_reduce = 32, n5x5 = 96, pool_proj = 64)  # Output Channels = 128 + 192 + 96 + 64 = 480\n",
    "        \n",
    "        # Max Pooling between modules to reduce spatial dimensions\n",
    "        self.maxpool = nn.MaxPool2d(kernel_size = 3, stride = 2, padding = 1)\n",
    "        \n",
    "        # Another Set of Inception Modules\n",
    "        self.a4 = InceptionModule(in_channels = 480, n1x1 = 192, n3x3_reduce = 96, n3x3 = 208, n5x5_reduce = 16, n5x5 = 48, pool_proj = 64)  # Output Channels: 192 + 208 + 48 + 64 = 512\n",
    "        self.b4 = InceptionModule(in_channels = 512, n1x1 = 160, n3x3_reduce = 112, n3x3 = 224, n5x5_reduce = 24, n5x5 = 64, pool_proj = 64)  # Output Channels: 160 + 224 + 64 + 64 = 512\n",
    "        self.c4 = InceptionModule(in_channels = 512, n1x1 = 128, n3x3_reduce = 128, n3x3 = 256, n5x5_reduce = 24, n5x5 = 64, pool_proj = 64)  # Output Channels: 128 + 256 + 64 + 64 = 512\n",
    "        self.d4 = InceptionModule(in_channels = 512, n1x1 = 112, n3x3_reduce = 144, n3x3 = 288, n5x5_reduce = 32, n5x5 = 64, pool_proj = 64)  # Output Channels: 112 + 288 + 64 + 64 = 528\n",
    "        self.e4 = InceptionModule(in_channels = 528, n1x1 = 256, n3x3_reduce = 160, n3x3 = 320, n5x5_reduce = 32, n5x5 = 128, pool_proj = 128)  # Output Channels: 256 + 320 + 128 + 128 = 832\n",
    "        \n",
    "        # Final Layers for Classification\n",
    "        self.avgpool = nn.AdaptiveAvgPool2d(output_size = (1, 1))\n",
    "        self.dropout = nn.Dropout(0.4)\n",
    "        self.fc = nn.Linear(in_features = 832, out_features = num_classes)\n",
    "        \n",
    "    def forward(self, x):\n",
    "        x = self.pre_layers(x)\n",
    "        x = self.a3(x)\n",
    "        x = self.b3(x)\n",
    "        x = self.maxpool(x)\n",
    "        x = self.a4(x)\n",
    "        x = self.b4(x)\n",
    "        x = self.c4(x)\n",
    "        x = self.d4(x)\n",
    "        x = self.e4(x)\n",
    "        x = self.maxpool(x)\n",
    "        x = self.avgpool(x)\n",
    "        x = x.view(x.size(0), -1)\n",
    "        x = self.dropout(x)\n",
    "        x = self.fc(x)\n",
    "        return x"
   ]
  },
  {
   "cell_type": "code",
   "execution_count": 17,
   "id": "220b655f",
   "metadata": {},
   "outputs": [],
   "source": [
    "model_BasicInceptionNet = BasicInceptionNet().to(device)"
   ]
  },
  {
   "cell_type": "code",
   "execution_count": null,
   "id": "d8aa107d",
   "metadata": {},
   "outputs": [],
   "source": [
    "loss_fn = nn.CrossEntropyLoss()\n",
    "optimizer = torch.optim.Adam(params = model_BasicInceptionNet.parameters(), lr = 0.0001)\n",
    "n_epochs = 10"
   ]
  },
  {
   "cell_type": "code",
   "execution_count": null,
   "id": "82854032",
   "metadata": {},
   "outputs": [],
   "source": [
    "def evaluate_model(model, data_loader, loss_function, device):\n",
    "    # Evaluates the model on the given dataset\n",
    "    model.eval()\n",
    "    running_loss = 0.0\n",
    "    correct = 0\n",
    "    total = 0\n",
    "    \n",
    "    with torch.no_grad():\n",
    "        for images, labels in data_loader:\n",
    "            images, labels = images.to(device), labels.to(device)\n",
    "            \n",
    "            outputs = model(images)\n",
    "            loss = loss_function(outputs, labels)\n",
    "            \n",
    "            running_loss += loss.item()\n",
    "            _, predicted = torch.max(outputs.data, 1)\n",
    "            total += labels.size(0)\n",
    "            correct += (predicted == labels).sum().item()\n",
    "            \n",
    "    avg_loss = running_loss / len(data_loader)\n",
    "    accuracy = 100 * correct / total\n",
    "\n",
    "    return avg_loss, accuracy"
   ]
  },
  {
   "cell_type": "code",
   "execution_count": null,
   "id": "42b0045d",
   "metadata": {},
   "outputs": [],
   "source": [
    "def training_loop(model, train_loader, val_loader, test_loader, loss_function, optimizer, n_epochs, device):\n",
    "    \n",
    "    history = {\n",
    "        \"train_losses\" : [], \"train_accs\": [],\n",
    "        \"val_losses\": [], \"val_accs\": [],\n",
    "        \"test_losses\": [], \"test_accs\": []\n",
    "    }\n",
    "    \n",
    "    for epoch in range(n_epochs):\n",
    "        # Training Phase\n",
    "        model.train()\n",
    "        running_train_loss = 0.0\n",
    "        train_correct = 0\n",
    "        train_total = 0\n",
    "        \n",
    "        for images, labels in train_loader:\n",
    "            images, labels = images.to(device), labels.to(device)\n",
    "            \n",
    "            optimizer.zero_grad()\n",
    "            outputs = model(images)\n",
    "            loss = loss_function(outputs, labels)\n",
    "            loss.backward()\n",
    "            optimizer.step()\n",
    "            \n",
    "            running_train_loss += loss.item()\n",
    "            \n",
    "            _, predicted = torch.max(outputs, 1)\n",
    "            train_total += labels.size(0)\n",
    "            train_correct += (predicted == labels).sum().item()\n",
    "        \n",
    "        avg_train_loss = running_train_loss / len(train_loader)\n",
    "        avg_train_acc = 100 * train_correct / train_total\n",
    "        \n",
    "        \n",
    "        # Evaluation Phase\n",
    "        val_loss, val_acc = evaluate_model(model, val_loader, loss_function, device)\n",
    "        test_loss, test_acc = evaluate_model(model, test_loader, loss_function, device)\n",
    "        \n",
    "        history['train_losses'].append(avg_train_loss)\n",
    "        history['train_accs'].append(avg_train_acc)\n",
    "        history['val_losses'].append(val_loss)\n",
    "        history['val_accs'].append(val_acc)\n",
    "        history['test_losses'].append(test_loss)\n",
    "        history['test_accs'].append(test_acc)\n",
    "        \n",
    "        print(f\"Epoch [{epoch + 1}/{n_epochs}] | \"\n",
    "              f\"Train Loss: {avg_train_loss:.4f}, Train Acc: {avg_train_acc:.2f}% | \"\n",
    "              f\"Val Loss: {val_loss:.4f}, Val Acc: {val_acc:.2f}% | \"\n",
    "              f\"Test Loss: {test_loss:.4f}, Test Acc: {test_acc:.2f}%\")\n",
    "        \n",
    "    print(\"Finished Training!\")\n",
    "    return history"
   ]
  },
  {
   "cell_type": "code",
   "execution_count": null,
   "id": "3a9f6803",
   "metadata": {},
   "outputs": [],
   "source": [
    "import matplotlib.pyplot as plt\n",
    "\n",
    "def plot_metrics(history):\n",
    "    \"\"\"Plots the training, validation, and test metrics.\"\"\"\n",
    "    epochs = range(1, len(history['train_losses']) + 1)\n",
    "\n",
    "    plt.style.use('seaborn-v0_8-whitegrid')\n",
    "    fig, (ax1, ax2) = plt.subplots(1, 2, figsize=(16, 6))\n",
    "\n",
    "    # Plot Loss\n",
    "    ax1.plot(epochs, history['train_losses'], 'o-', label='Training Loss')\n",
    "    ax1.plot(epochs, history['val_losses'], 'o-', label='Validation Loss')\n",
    "    ax1.plot(epochs, history['test_losses'], 'o-', label='Test Loss')\n",
    "    ax1.set_title('Loss vs. Epochs')\n",
    "    ax1.set_xlabel('Epochs')\n",
    "    ax1.set_ylabel('Loss')\n",
    "    ax1.legend()\n",
    "    ax1.set_xticks(epochs)\n",
    "\n",
    "\n",
    "    # Plot Accuracy\n",
    "    ax2.plot(epochs, history['train_accs'], 'o-', label='Training Accuracy')\n",
    "    ax2.plot(epochs, history['val_accs'], 'o-', label='Validation Accuracy')\n",
    "    ax2.plot(epochs, history['test_accs'], 'o-', label='Test Accuracy')\n",
    "    ax2.set_title('Accuracy vs. Epochs')\n",
    "    ax2.set_xlabel('Epochs')\n",
    "    ax2.set_ylabel('Accuracy (%)')\n",
    "    ax2.legend()\n",
    "    ax2.set_xticks(epochs)\n",
    "\n",
    "    plt.tight_layout()\n",
    "    plt.show()"
   ]
  },
  {
   "cell_type": "code",
   "execution_count": null,
   "id": "87fb9ca9",
   "metadata": {},
   "outputs": [],
   "source": [
    "training_history = training_loop(model = model_BasicInceptionNet,\n",
    "                                 train_loader = train_loader,\n",
    "                                 val_loader = val_loader, \n",
    "                                 test_loader = test_loader, \n",
    "                                 loss_function = loss_fn,\n",
    "                                 optimizer = optimizer,\n",
    "                                 n_epochs = n_epochs,\n",
    "                                 device = device)"
   ]
  },
  {
   "cell_type": "code",
   "execution_count": null,
   "id": "eb7696a0",
   "metadata": {},
   "outputs": [],
   "source": [
    "plot_metrics(training_history)"
   ]
  },
  {
   "cell_type": "code",
   "execution_count": null,
   "id": "bad9b776",
   "metadata": {},
   "outputs": [],
   "source": [
    "final_test_loss, final_test_acc = evaluate_model(model_BasicInceptionNet, test_loader, loss_fn, device)\n",
    "\n",
    "print(f'\\nFinal accuracy on the 10000 test images: {final_test_acc:.2f}%')"
   ]
  }
 ],
 "metadata": {
  "kernelspec": {
   "display_name": "Python 3",
   "language": "python",
   "name": "python3"
  },
  "language_info": {
   "codemirror_mode": {
    "name": "ipython",
    "version": 3
   },
   "file_extension": ".py",
   "mimetype": "text/x-python",
   "name": "python",
   "nbconvert_exporter": "python",
   "pygments_lexer": "ipython3",
   "version": "3.12.10"
  }
 },
 "nbformat": 4,
 "nbformat_minor": 5
}
